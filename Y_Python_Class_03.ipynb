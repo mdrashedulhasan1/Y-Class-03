{
  "nbformat": 4,
  "nbformat_minor": 0,
  "metadata": {
    "colab": {
      "name": "Y-Python-Class-03.ipynb",
      "provenance": [],
      "authorship_tag": "ABX9TyNFe5DWfY2RLtUXnUaPnyrR",
      "include_colab_link": true
    },
    "kernelspec": {
      "name": "python3",
      "display_name": "Python 3"
    },
    "language_info": {
      "name": "python"
    }
  },
  "cells": [
    {
      "cell_type": "markdown",
      "metadata": {
        "id": "view-in-github",
        "colab_type": "text"
      },
      "source": [
        "<a href=\"https://colab.research.google.com/github/mdrashedulhasan1/Y-Class-03/blob/main/Y_Python_Class_03.ipynb\" target=\"_parent\"><img src=\"https://colab.research.google.com/assets/colab-badge.svg\" alt=\"Open In Colab\"/></a>"
      ]
    },
    {
      "cell_type": "code",
      "execution_count": 7,
      "metadata": {
        "colab": {
          "base_uri": "https://localhost:8080/"
        },
        "id": "yvRxUeBzn61H",
        "outputId": "a75ec8a1-64b4-487a-8a33-4c9ff7d7c491"
      },
      "outputs": [
        {
          "output_type": "stream",
          "name": "stdout",
          "text": [
            "Welcome to the market!\n",
            "Enter mango price:11\n",
            "You can't buy mango\n"
          ]
        }
      ],
      "source": [
        "print(\"Welcome to the market!\")\n",
        "price = int(input(\"Enter mango price:\"))\n",
        "if price == 10:\n",
        "  print(\"You can buy mango\")\n",
        "else:\n",
        "  print(\"You can't buy mango\")"
      ]
    },
    {
      "cell_type": "code",
      "source": [
        "#Even/Odd\n",
        "number = int(input(\"Which number do you want to check?\"))\n",
        "if number%2 == 0:\n",
        "  print(number,\"is even\")\n",
        "else:\n",
        "  print(number,\"is odd\")"
      ],
      "metadata": {
        "colab": {
          "base_uri": "https://localhost:8080/"
        },
        "id": "CcCqRtznpar0",
        "outputId": "6944b209-5ff0-41ea-9616-77b3cc50949d"
      },
      "execution_count": 9,
      "outputs": [
        {
          "output_type": "stream",
          "name": "stdout",
          "text": [
            "Which number do you want to check?10\n",
            "10 is even\n"
          ]
        }
      ]
    },
    {
      "cell_type": "code",
      "source": [
        "print(\"Welcome to the merket!\")\n",
        "price = int(input(\"Enter mango price\"))\n",
        "if price<=80:  \n",
        "  if price>=70:\n",
        "    print(\"You can buy 4kg mango\")\n",
        "  elif price>=60:\n",
        "    print(\"You can buy 6kg mango\")\n",
        "  else:\n",
        "    print(\"You can buy 20kg mango\")\n",
        "else:\n",
        "  print(\"You can't buy!\")\n"
      ],
      "metadata": {
        "colab": {
          "base_uri": "https://localhost:8080/"
        },
        "id": "EHyvCLj2qhYL",
        "outputId": "f93a612a-8d5f-46e3-e77d-f86227d8ea47"
      },
      "execution_count": 12,
      "outputs": [
        {
          "output_type": "stream",
          "name": "stdout",
          "text": [
            "Welcome to the merket!\n",
            "Enter mango price60\n",
            "You can buy 6kg mango\n"
          ]
        }
      ]
    },
    {
      "cell_type": "code",
      "source": [
        "age = int(input(\"Input your age:\"))\n",
        "if age>=18:\n",
        "  if(age>30):\n",
        "    print(\"Ticket price 5k\")\n",
        "  elif(age>=25):\n",
        "    print(\"Ticket price 4.5k\")\n",
        "  elif(age>=20):\n",
        "    print(\"Ticket price 4k\")\n",
        "  else:\n",
        "    print(\"Ticket price 3.5k\")\n",
        "else:\n",
        "  print(\"Sorry! you can't buy ticket\")"
      ],
      "metadata": {
        "colab": {
          "base_uri": "https://localhost:8080/"
        },
        "id": "1IN3FDivtnML",
        "outputId": "a6e39416-6460-4c4a-d8f4-0543e1b8a557"
      },
      "execution_count": 15,
      "outputs": [
        {
          "output_type": "stream",
          "name": "stdout",
          "text": [
            "Input your age:17\n",
            "Sorry! you can't buy ticket\n"
          ]
        }
      ]
    },
    {
      "cell_type": "code",
      "source": [
        "print(\"Welcome to T-shirt market!\")\n",
        "size = input(\"T-shirt size S, M or L\")\n",
        "delivery = input(\"Delivery? Y or N\")\n",
        "dhaka = input(\"Dhaka? Y or N\")\n",
        "bill = 0\n",
        "if(size == \"S\"):\n",
        "  bill += 100\n",
        "elif(size == \"M\"):\n",
        "  bill += 150\n",
        "else:\n",
        "  bill += 200\n",
        "if(delivery == \"Y\"):\n",
        "  if size == \"S\":\n",
        "    bill += 20\n",
        "  else:\n",
        "    bill += 35\n",
        "if(dhaka == \"Y\"):\n",
        "  if(size == \"S\"):\n",
        "    bill += 0\n",
        "  else:\n",
        "    bill += 10 \n",
        "  \n",
        "print(f\"Your total bill {bill}\")"
      ],
      "metadata": {
        "colab": {
          "base_uri": "https://localhost:8080/"
        },
        "id": "TDyc6OzTPV2f",
        "outputId": "42be99a3-b043-4417-d0e1-f7b0008bcf8e"
      },
      "execution_count": null,
      "outputs": [
        {
          "output_type": "stream",
          "name": "stdout",
          "text": [
            "Welcome to T-shirt market!\n"
          ]
        }
      ]
    }
  ]
}